{
 "cells": [
  {
   "cell_type": "code",
   "execution_count": 13,
   "metadata": {},
   "outputs": [
    {
     "name": "stdout",
     "output_type": "stream",
     "text": [
      "96.2\n"
     ]
    }
   ],
   "source": [
    "prices = {\n",
    "    \"a\": 4,\n",
    "    \"b\": 5.5,\n",
    "    \"c\": 6\n",
    "}\n",
    "quantity = {\n",
    "    \"a\": 5,\n",
    "    \"b\": 6,\n",
    "    \"c\": 7.2\n",
    "}\n",
    "\n",
    "money_spent = 0\n",
    "\n",
    "for i in prices:\n",
    "    money_spent += prices[i] * quantity[i]\n",
    "    \n",
    "print (money_spent)"
   ]
  }
 ],
 "metadata": {
  "kernelspec": {
   "display_name": "Python 3",
   "language": "python",
   "name": "python3"
  },
  "language_info": {
   "codemirror_mode": {
    "name": "ipython",
    "version": 3
   },
   "file_extension": ".py",
   "mimetype": "text/x-python",
   "name": "python",
   "nbconvert_exporter": "python",
   "pygments_lexer": "ipython3",
   "version": "3.6.1"
  }
 },
 "nbformat": 4,
 "nbformat_minor": 2
}
